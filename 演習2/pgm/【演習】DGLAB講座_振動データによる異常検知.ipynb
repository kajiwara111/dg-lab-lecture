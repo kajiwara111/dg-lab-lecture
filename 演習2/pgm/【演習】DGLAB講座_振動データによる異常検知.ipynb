{
 "cells": [
  {
   "cell_type": "code",
   "execution_count": 2,
   "metadata": {
    "collapsed": true
   },
   "outputs": [],
   "source": [
    "#ライブラリインポート\n",
    "import os\n",
    "import pandas as pd\n",
    "import numpy as np\n",
    "import matplotlib.pyplot as plt\n",
    "%matplotlib inline\n",
    "import glob\n",
    "import re\n",
    "from pandas import Series,DataFrame\n",
    "from scipy.fftpack import fft\n",
    "from datetime import datetime as dt\n",
    "from sklearn.model_selection import train_test_split\n",
    "from sklearn.preprocessing import StandardScaler\n",
    "from sklearn.decomposition import PCA\n",
    "from sklearn.svm import SVC\n",
    "from sklearn.metrics import confusion_matrix\n",
    "from sklearn.metrics import roc_curve\n",
    "from sklearn.metrics import roc_auc_score\n",
    "from sklearn.neighbors import LocalOutlierFactor"
   ]
  },
  {
   "cell_type": "code",
   "execution_count": 12,
   "metadata": {
    "collapsed": true
   },
   "outputs": [],
   "source": [
    "#-------------------------------------\n",
    "# 初期設定\n",
    "#-------------------------------------\n",
    "\n",
    "#データのディレクトリ設定\n",
    "#★★★パスをご自身の環境に合わせて書き換えてください。\n",
    "expression_normal   = r'C:\\Users\\kajiw\\Desktop\\1_仕事\\16_イベント登壇\\DGLAB講座\\振動データサンプル\\正常\\*.csv'\n",
    "expression_gear     = r'C:\\Users\\kajiw\\Desktop\\1_仕事\\16_イベント登壇\\DGLAB講座\\振動データサンプル\\ギヤ異常\\*.csv'\n",
    "expression_bearing  = r'C:\\Users\\kajiw\\Desktop\\1_仕事\\16_イベント登壇\\DGLAB講座\\振動データサンプル\\ベアリング異常\\*.csv'\n",
    "\n",
    "#サンプリング周波数(Hz)\n",
    "freq = 76800\n",
    "\n",
    "#サンプリング時間(s)\n",
    "sampling_time = 10\n",
    "\n",
    "#FFT間隔(s)\n",
    "fft_interval = 0.1\n",
    "\n",
    "#グラフスタイル指定\n",
    "plt.style.use('ggplot')"
   ]
  },
  {
   "cell_type": "code",
   "execution_count": 26,
   "metadata": {
    "collapsed": true
   },
   "outputs": [],
   "source": [
    "#------------------------------------\n",
    "# データ読み込み用関数定義\n",
    "#------------------------------------\n",
    "\n",
    "def file_number_sort(value):\n",
    "    pattern = re.compile(r'\\d+')\n",
    "    file_number = int(pattern.findall(value).pop())\n",
    "    return file_number\n",
    "\n",
    "def stack_acc_data(expression):\n",
    "    df_acc = pd.DataFrame()\n",
    "    for f in sorted(glob.glob(expression), key = file_number_sort):\n",
    "        df = #★★★csvファイル読込み\n",
    "        accs = #★★★dfの最初の列の4行目以降を読み込みfloatに変換\n",
    "        #★★★df_accとaccsを縦に結合する\n",
    "        \n",
    "    return df_acc.reset_index(drop = True)\n"
   ]
  },
  {
   "cell_type": "code",
   "execution_count": 27,
   "metadata": {
    "collapsed": true
   },
   "outputs": [],
   "source": [
    "#--------------------------------\n",
    "# データ読み込み\n",
    "#--------------------------------\n",
    "df_acc_normal  = stack_acc_data(expression_normal)\n",
    "df_acc_gear    = stack_acc_data(expression_gear)\n",
    "df_acc_bearing = stack_acc_data(expression_bearing)"
   ]
  },
  {
   "cell_type": "code",
   "execution_count": 29,
   "metadata": {},
   "outputs": [
    {
     "name": "stdout",
     "output_type": "stream",
     "text": [
      "(768000, 1)\n",
      "(768000, 1)\n",
      "(768000, 1)\n"
     ]
    }
   ],
   "source": [
    "#--------------------------------\n",
    "# 読み込みデータ確認\n",
    "#--------------------------------\n",
    "print(df_acc_normal.shape)\n",
    "print(df_acc_gear.shape)\n",
    "print(df_acc_bearing.shape)"
   ]
  },
  {
   "cell_type": "code",
   "execution_count": null,
   "metadata": {
    "collapsed": true
   },
   "outputs": [],
   "source": [
    "#-----------------------------------------\n",
    "# データ確認\n",
    "#-----------------------------------------"
   ]
  },
  {
   "cell_type": "code",
   "execution_count": 30,
   "metadata": {},
   "outputs": [
    {
     "data": {
      "text/html": [
       "<div>\n",
       "<style>\n",
       "    .dataframe thead tr:only-child th {\n",
       "        text-align: right;\n",
       "    }\n",
       "\n",
       "    .dataframe thead th {\n",
       "        text-align: left;\n",
       "    }\n",
       "\n",
       "    .dataframe tbody tr th {\n",
       "        vertical-align: top;\n",
       "    }\n",
       "</style>\n",
       "<table border=\"1\" class=\"dataframe\">\n",
       "  <thead>\n",
       "    <tr style=\"text-align: right;\">\n",
       "      <th></th>\n",
       "      <th>0</th>\n",
       "    </tr>\n",
       "  </thead>\n",
       "  <tbody>\n",
       "    <tr>\n",
       "      <th>0</th>\n",
       "      <td>-17.840282</td>\n",
       "    </tr>\n",
       "    <tr>\n",
       "      <th>1</th>\n",
       "      <td>-21.697704</td>\n",
       "    </tr>\n",
       "    <tr>\n",
       "      <th>2</th>\n",
       "      <td>-24.171663</td>\n",
       "    </tr>\n",
       "    <tr>\n",
       "      <th>3</th>\n",
       "      <td>-24.765739</td>\n",
       "    </tr>\n",
       "    <tr>\n",
       "      <th>4</th>\n",
       "      <td>-22.869579</td>\n",
       "    </tr>\n",
       "  </tbody>\n",
       "</table>\n",
       "</div>"
      ],
      "text/plain": [
       "           0\n",
       "0 -17.840282\n",
       "1 -21.697704\n",
       "2 -24.171663\n",
       "3 -24.765739\n",
       "4 -22.869579"
      ]
     },
     "execution_count": 30,
     "metadata": {},
     "output_type": "execute_result"
    }
   ],
   "source": [
    "df_acc_normal.head()"
   ]
  },
  {
   "cell_type": "code",
   "execution_count": 31,
   "metadata": {},
   "outputs": [
    {
     "data": {
      "text/html": [
       "<div>\n",
       "<style>\n",
       "    .dataframe thead tr:only-child th {\n",
       "        text-align: right;\n",
       "    }\n",
       "\n",
       "    .dataframe thead th {\n",
       "        text-align: left;\n",
       "    }\n",
       "\n",
       "    .dataframe tbody tr th {\n",
       "        vertical-align: top;\n",
       "    }\n",
       "</style>\n",
       "<table border=\"1\" class=\"dataframe\">\n",
       "  <thead>\n",
       "    <tr style=\"text-align: right;\">\n",
       "      <th></th>\n",
       "      <th>0</th>\n",
       "    </tr>\n",
       "  </thead>\n",
       "  <tbody>\n",
       "    <tr>\n",
       "      <th>0</th>\n",
       "      <td>24.480478</td>\n",
       "    </tr>\n",
       "    <tr>\n",
       "      <th>1</th>\n",
       "      <td>23.330982</td>\n",
       "    </tr>\n",
       "    <tr>\n",
       "      <th>2</th>\n",
       "      <td>19.434904</td>\n",
       "    </tr>\n",
       "    <tr>\n",
       "      <th>3</th>\n",
       "      <td>11.256194</td>\n",
       "    </tr>\n",
       "    <tr>\n",
       "      <th>4</th>\n",
       "      <td>0.859873</td>\n",
       "    </tr>\n",
       "  </tbody>\n",
       "</table>\n",
       "</div>"
      ],
      "text/plain": [
       "           0\n",
       "0  24.480478\n",
       "1  23.330982\n",
       "2  19.434904\n",
       "3  11.256194\n",
       "4   0.859873"
      ]
     },
     "execution_count": 31,
     "metadata": {},
     "output_type": "execute_result"
    }
   ],
   "source": [
    "df_acc_gear.head()"
   ]
  },
  {
   "cell_type": "code",
   "execution_count": 35,
   "metadata": {},
   "outputs": [
    {
     "data": {
      "text/html": [
       "<div>\n",
       "<style>\n",
       "    .dataframe thead tr:only-child th {\n",
       "        text-align: right;\n",
       "    }\n",
       "\n",
       "    .dataframe thead th {\n",
       "        text-align: left;\n",
       "    }\n",
       "\n",
       "    .dataframe tbody tr th {\n",
       "        vertical-align: top;\n",
       "    }\n",
       "</style>\n",
       "<table border=\"1\" class=\"dataframe\">\n",
       "  <thead>\n",
       "    <tr style=\"text-align: right;\">\n",
       "      <th></th>\n",
       "      <th>0</th>\n",
       "    </tr>\n",
       "  </thead>\n",
       "  <tbody>\n",
       "    <tr>\n",
       "      <th>0</th>\n",
       "      <td>0.782321</td>\n",
       "    </tr>\n",
       "    <tr>\n",
       "      <th>1</th>\n",
       "      <td>0.426283</td>\n",
       "    </tr>\n",
       "    <tr>\n",
       "      <th>2</th>\n",
       "      <td>0.182142</td>\n",
       "    </tr>\n",
       "    <tr>\n",
       "      <th>3</th>\n",
       "      <td>1.708021</td>\n",
       "    </tr>\n",
       "    <tr>\n",
       "      <th>4</th>\n",
       "      <td>2.745619</td>\n",
       "    </tr>\n",
       "  </tbody>\n",
       "</table>\n",
       "</div>"
      ],
      "text/plain": [
       "          0\n",
       "0  0.782321\n",
       "1  0.426283\n",
       "2  0.182142\n",
       "3  1.708021\n",
       "4  2.745619"
      ]
     },
     "execution_count": 35,
     "metadata": {},
     "output_type": "execute_result"
    }
   ],
   "source": [
    "df_acc_bearing.head()"
   ]
  },
  {
   "cell_type": "markdown",
   "metadata": {},
   "source": [
    "可視化によるデータ確認"
   ]
  },
  {
   "cell_type": "code",
   "execution_count": 36,
   "metadata": {},
   "outputs": [
    {
     "data": {
      "image/png": "[encoded data removed]",
      "text/plain": [
       "<matplotlib.figure.Figure at 0x1f34fd89400>"
      ]
     },
     "metadata": {},
     "output_type": "display_data"
    }
   ],
   "source": [
    "#---------------------------------------------------------------------\n",
    "# 正常、ギア異常、ベアリング異常それぞれでFFT前の振動データを可視化\n",
    "#---------------------------------------------------------------------\n",
    "plt.figure(figsize = (15, 8))\n",
    "i = 1\n",
    "df_acc_list = [df_acc_normal, df_acc_gear, df_acc_bearing]\n",
    "types_list = ['normal', 'gear', 'bearing']\n",
    "for types, df in :　#★★★\n",
    "    plt.subplot(2, 2, )　#★★★\n",
    "    data_n = df.shape[0]\n",
    "    plt.plot(range(data_n), df.values, color = 'b')\n",
    "    plt.title(types)\n",
    "    plt.ylim(-300, 200)\n",
    "    i += 1\n",
    "plt.show()"
   ]
  },
  {
   "cell_type": "code",
   "execution_count": 37,
   "metadata": {
    "collapsed": true
   },
   "outputs": [],
   "source": [
    "#--------------------------------\n",
    "# FFT実行関数定義\n",
    "#--------------------------------\n",
    "def fft(fs, data):\n",
    "    D = 1 / fs\n",
    "    N = len(data)\n",
    "    fft = np.fft.fft(data) \n",
    "    freqs = np.fft.fftfreq(N, d = D) #周波数軸算出\n",
    "    amplitude = np.abs(fft) #振幅強度算出\n",
    "    target_idx = np.where(freqs >= 0)[0] \n",
    "    return amplitude[target_idx], freqs[target_idx]"
   ]
  },
  {
   "cell_type": "code",
   "execution_count": 38,
   "metadata": {
    "collapsed": true
   },
   "outputs": [],
   "source": [
    "#-----------------------------\n",
    "# FFT実行\n",
    "#-----------------------------\n",
    "amplitude_normal, freqs_normal   = fft(fs = freq, data = df_acc_normal.values.ravel())\n",
    "amplitude_gear, freqs_gear       = fft(fs = freq, data = df_acc_gear.values.ravel())\n",
    "amplitude_bearing, freqs_bearing = fft(fs = freq, data = df_acc_bearing.values.ravel())\n"
   ]
  },
  {
   "cell_type": "code",
   "execution_count": 41,
   "metadata": {},
   "outputs": [
    {
     "data": {
      "image/png": "[encoded data removed]",
      "text/plain": [
       "<matplotlib.figure.Figure at 0x1f34f9b5860>"
      ]
     },
     "metadata": {},
     "output_type": "display_data"
    }
   ],
   "source": [
    "#--------------------------------\n",
    "# FFT結果可視化\n",
    "#--------------------------------\n",
    "plt.figure(figsize = (12, 6))\n",
    "plt.plot(freqs_normal, amplitude_normal, color = 'b', alpha = 0.3, label = 'normal')\n",
    "#★★★ギアとベアリングも同じように書いてみる\n",
    "#★★★凡例の表示設定\n",
    "plt.show()"
   ]
  },
  {
   "cell_type": "code",
   "execution_count": 310,
   "metadata": {},
   "outputs": [
    {
     "data": {
      "image/png": "[encoded data removed]",
      "text/plain": [
       "<matplotlib.figure.Figure at 0x21ec3bed320>"
      ]
     },
     "metadata": {},
     "output_type": "display_data"
    }
   ],
   "source": [
    "#-----------------------------------\n",
    "# 2500Hz以下に絞って可視化\n",
    "#-----------------------------------\n",
    "plt.figure(figsize = (12, 6))\n",
    "idx = #★★★2500Hz以下のインデックス取得しidx変数に格納してください\n",
    "plt.plot(freqs_normal[idx], amplitude_normal[idx], color = 'b', alpha = 0.3, label = 'normal')\n",
    "#★★★一つ上のセルと同様の内容記載をidxを指定して記載\n",
    "plt.show()"
   ]
  },
  {
   "cell_type": "code",
   "execution_count": 311,
   "metadata": {},
   "outputs": [
    {
     "data": {
      "image/png": "[encoded data removed]",
      "text/plain": [
       "<matplotlib.figure.Figure at 0x21ebcc09a20>"
      ]
     },
     "metadata": {},
     "output_type": "display_data"
    }
   ],
   "source": [
    "#-------------------------------------------------\n",
    "# 正常、ギア異常、ベアリング異常それぞれで可視化\n",
    "#-------------------------------------------------\n",
    "plt.figure(figsize = (15, 8))\n",
    "i = 1\n",
    "amplitude_list = [amplitude_normal[idx], amplitude_gear[idx], amplitude_bearing[idx]]\n",
    "freqs_list = [freqs_normal[idx], freqs_gear[idx], freqs_bearing[idx]]\n",
    "types_list = ['normal', 'gear', 'bearing']\n",
    "for types, freqs, amplitude in zip(types_list, freqs_list, amplitude_list):\n",
    "    plt.subplot(2, 2, i)\n",
    "    plt.plot(freqs, amplitude, color = 'b')\n",
    "    plt.title(types)\n",
    "    plt.ylim(0, 600000)\n",
    "    i += 1\n",
    "plt.show()"
   ]
  },
  {
   "cell_type": "markdown",
   "metadata": {},
   "source": [
    "振動データ整形"
   ]
  },
  {
   "cell_type": "code",
   "execution_count": 471,
   "metadata": {
    "collapsed": true
   },
   "outputs": [],
   "source": [
    "#--------------------------------------------------------\n",
    "# 加速度データをFFT間隔(今回は0.1s)ずつ切り出す関数定義\n",
    "#--------------------------------------------------------\n",
    "def divide_acc_data(fft_interval, df):\n",
    "    fft_interval = fft_interval\n",
    "    arr_acc = #★★★dfを一次元配列に変換\n",
    "    sample_num = int(sampling_time / fft_interval)\n",
    "    n = int(freq * fft_interval)\n",
    "    #★★★データを0.1sを1行として切り出し100行分データ作成\n",
    "    return data"
   ]
  },
  {
   "cell_type": "code",
   "execution_count": 472,
   "metadata": {
    "collapsed": true
   },
   "outputs": [],
   "source": [
    "#---------------------------------------------------------------------------------\n",
    "# 1行が0.1s分の振動データになっているデータを正常、ギア異常、ベアリング異常で作成\n",
    "#---------------------------------------------------------------------------------\n",
    "data_normal  = divide_acc_data(fft_interval, df_acc_normal)\n",
    "data_gear    = divide_acc_data(fft_interval, df_acc_gear)\n",
    "data_bearing = divide_acc_data(fft_interval, df_acc_bearing)"
   ]
  },
  {
   "cell_type": "code",
   "execution_count": 495,
   "metadata": {},
   "outputs": [
    {
     "name": "stdout",
     "output_type": "stream",
     "text": [
      "(100, 7680)\n",
      "(100, 7680)\n",
      "(100, 7680)\n"
     ]
    }
   ],
   "source": [
    "#--------------------------\n",
    "# 確認\n",
    "#--------------------------\n",
    "print(data_normal.shape)\n",
    "print(data_gear.shape)\n",
    "print(data_bearing.shape)"
   ]
  },
  {
   "cell_type": "code",
   "execution_count": 473,
   "metadata": {
    "collapsed": true
   },
   "outputs": [],
   "source": [
    "#-----------------------------------------\n",
    "# FFTを実行し結果をDFとして返す関数定義\n",
    "#-----------------------------------------\n",
    "\n",
    "def convert_fft_df(data, freq):\n",
    "    fft_result = []\n",
    "    for i in range(data.shape[0]):\n",
    "        _amplitude, _ = fft(fs = freq, data = data[i, :])\n",
    "        fft_result.append(_amplitude)\n",
    "    df = pd.DataFrame(fft_result)\n",
    "    return df\n",
    "    "
   ]
  },
  {
   "cell_type": "code",
   "execution_count": 474,
   "metadata": {
    "collapsed": true
   },
   "outputs": [],
   "source": [
    "#--------------------------------------------------------\n",
    "# FFT後のDFを正常、ギア異常、ベアリング異常でそれぞれ取得\n",
    "#--------------------------------------------------------\n",
    "df_normal  = convert_fft_df(data_normal, freq = freq)\n",
    "df_gear    = convert_fft_df(data_gear, freq = freq)\n",
    "df_bearing = convert_fft_df(data_bearing, freq = freq)"
   ]
  },
  {
   "cell_type": "markdown",
   "metadata": {},
   "source": [
    "SVMによる教師ありでの正常、ベアリング異常の判定モデル作成"
   ]
  },
  {
   "cell_type": "code",
   "execution_count": 475,
   "metadata": {
    "collapsed": true
   },
   "outputs": [],
   "source": [
    "#-------------------------------------------------\n",
    "# 正常を0, ベアリング異常を1として教師ラベル作成\n",
    "#-------------------------------------------------\n",
    "\n",
    "#★★★type列を作成し正常に0, ベアリング異常を1とする"
   ]
  },
  {
   "cell_type": "code",
   "execution_count": 476,
   "metadata": {},
   "outputs": [
    {
     "data": {
      "text/html": [
       "<div>\n",
       "<style>\n",
       "    .dataframe thead tr:only-child th {\n",
       "        text-align: right;\n",
       "    }\n",
       "\n",
       "    .dataframe thead th {\n",
       "        text-align: left;\n",
       "    }\n",
       "\n",
       "    .dataframe tbody tr th {\n",
       "        vertical-align: top;\n",
       "    }\n",
       "</style>\n",
       "<table border=\"1\" class=\"dataframe\">\n",
       "  <thead>\n",
       "    <tr style=\"text-align: right;\">\n",
       "      <th></th>\n",
       "      <th>0</th>\n",
       "      <th>1</th>\n",
       "      <th>2</th>\n",
       "      <th>3</th>\n",
       "      <th>4</th>\n",
       "      <th>5</th>\n",
       "      <th>6</th>\n",
       "      <th>7</th>\n",
       "      <th>8</th>\n",
       "      <th>9</th>\n",
       "      <th>...</th>\n",
       "      <th>3831</th>\n",
       "      <th>3832</th>\n",
       "      <th>3833</th>\n",
       "      <th>3834</th>\n",
       "      <th>3835</th>\n",
       "      <th>3836</th>\n",
       "      <th>3837</th>\n",
       "      <th>3838</th>\n",
       "      <th>3839</th>\n",
       "      <th>type</th>\n",
       "    </tr>\n",
       "  </thead>\n",
       "  <tbody>\n",
       "    <tr>\n",
       "      <th>0</th>\n",
       "      <td>83.822911</td>\n",
       "      <td>118.871264</td>\n",
       "      <td>203.083493</td>\n",
       "      <td>125.089567</td>\n",
       "      <td>187.653030</td>\n",
       "      <td>631.346621</td>\n",
       "      <td>116.131787</td>\n",
       "      <td>83.191407</td>\n",
       "      <td>43.301292</td>\n",
       "      <td>56.712198</td>\n",
       "      <td>...</td>\n",
       "      <td>11.375019</td>\n",
       "      <td>10.989095</td>\n",
       "      <td>7.300296</td>\n",
       "      <td>10.749205</td>\n",
       "      <td>9.731107</td>\n",
       "      <td>6.394602</td>\n",
       "      <td>10.136839</td>\n",
       "      <td>11.324913</td>\n",
       "      <td>8.106285</td>\n",
       "      <td>0</td>\n",
       "    </tr>\n",
       "    <tr>\n",
       "      <th>1</th>\n",
       "      <td>109.996297</td>\n",
       "      <td>117.454990</td>\n",
       "      <td>179.006125</td>\n",
       "      <td>41.363042</td>\n",
       "      <td>49.468171</td>\n",
       "      <td>749.193839</td>\n",
       "      <td>151.957357</td>\n",
       "      <td>301.571704</td>\n",
       "      <td>136.569352</td>\n",
       "      <td>172.180920</td>\n",
       "      <td>...</td>\n",
       "      <td>7.549093</td>\n",
       "      <td>11.123942</td>\n",
       "      <td>14.597836</td>\n",
       "      <td>10.738963</td>\n",
       "      <td>10.151023</td>\n",
       "      <td>9.304855</td>\n",
       "      <td>11.451234</td>\n",
       "      <td>15.223149</td>\n",
       "      <td>12.187710</td>\n",
       "      <td>0</td>\n",
       "    </tr>\n",
       "    <tr>\n",
       "      <th>2</th>\n",
       "      <td>116.513302</td>\n",
       "      <td>124.740223</td>\n",
       "      <td>207.226287</td>\n",
       "      <td>108.013687</td>\n",
       "      <td>155.761905</td>\n",
       "      <td>634.656567</td>\n",
       "      <td>133.726611</td>\n",
       "      <td>71.831449</td>\n",
       "      <td>118.674827</td>\n",
       "      <td>28.944292</td>\n",
       "      <td>...</td>\n",
       "      <td>5.798136</td>\n",
       "      <td>3.817545</td>\n",
       "      <td>4.559839</td>\n",
       "      <td>3.606908</td>\n",
       "      <td>1.578546</td>\n",
       "      <td>3.349416</td>\n",
       "      <td>3.764061</td>\n",
       "      <td>3.721364</td>\n",
       "      <td>4.844978</td>\n",
       "      <td>0</td>\n",
       "    </tr>\n",
       "    <tr>\n",
       "      <th>3</th>\n",
       "      <td>23.326419</td>\n",
       "      <td>5.506132</td>\n",
       "      <td>110.984710</td>\n",
       "      <td>143.610417</td>\n",
       "      <td>28.255866</td>\n",
       "      <td>745.023021</td>\n",
       "      <td>192.631427</td>\n",
       "      <td>278.755234</td>\n",
       "      <td>122.676224</td>\n",
       "      <td>217.034757</td>\n",
       "      <td>...</td>\n",
       "      <td>24.535422</td>\n",
       "      <td>26.741210</td>\n",
       "      <td>31.279449</td>\n",
       "      <td>27.258065</td>\n",
       "      <td>29.524702</td>\n",
       "      <td>27.931245</td>\n",
       "      <td>30.773952</td>\n",
       "      <td>32.005174</td>\n",
       "      <td>26.478874</td>\n",
       "      <td>0</td>\n",
       "    </tr>\n",
       "    <tr>\n",
       "      <th>4</th>\n",
       "      <td>19.371278</td>\n",
       "      <td>21.540440</td>\n",
       "      <td>98.512677</td>\n",
       "      <td>156.952498</td>\n",
       "      <td>177.752543</td>\n",
       "      <td>600.804264</td>\n",
       "      <td>125.460959</td>\n",
       "      <td>56.740275</td>\n",
       "      <td>72.836385</td>\n",
       "      <td>49.914823</td>\n",
       "      <td>...</td>\n",
       "      <td>14.175601</td>\n",
       "      <td>13.129584</td>\n",
       "      <td>16.041424</td>\n",
       "      <td>16.080621</td>\n",
       "      <td>14.749943</td>\n",
       "      <td>12.914153</td>\n",
       "      <td>18.312530</td>\n",
       "      <td>16.505467</td>\n",
       "      <td>16.544664</td>\n",
       "      <td>0</td>\n",
       "    </tr>\n",
       "  </tbody>\n",
       "</table>\n",
       "<p>5 rows × 3841 columns</p>\n",
       "</div>"
      ],
      "text/plain": [
       "            0           1           2           3           4           5  \\\n",
       "0   83.822911  118.871264  203.083493  125.089567  187.653030  631.346621   \n",
       "1  109.996297  117.454990  179.006125   41.363042   49.468171  749.193839   \n",
       "2  116.513302  124.740223  207.226287  108.013687  155.761905  634.656567   \n",
       "3   23.326419    5.506132  110.984710  143.610417   28.255866  745.023021   \n",
       "4   19.371278   21.540440   98.512677  156.952498  177.752543  600.804264   \n",
       "\n",
       "            6           7           8           9  ...        3831       3832  \\\n",
       "0  116.131787   83.191407   43.301292   56.712198  ...   11.375019  10.989095   \n",
       "1  151.957357  301.571704  136.569352  172.180920  ...    7.549093  11.123942   \n",
       "2  133.726611   71.831449  118.674827   28.944292  ...    5.798136   3.817545   \n",
       "3  192.631427  278.755234  122.676224  217.034757  ...   24.535422  26.741210   \n",
       "4  125.460959   56.740275   72.836385   49.914823  ...   14.175601  13.129584   \n",
       "\n",
       "        3833       3834       3835       3836       3837       3838  \\\n",
       "0   7.300296  10.749205   9.731107   6.394602  10.136839  11.324913   \n",
       "1  14.597836  10.738963  10.151023   9.304855  11.451234  15.223149   \n",
       "2   4.559839   3.606908   1.578546   3.349416   3.764061   3.721364   \n",
       "3  31.279449  27.258065  29.524702  27.931245  30.773952  32.005174   \n",
       "4  16.041424  16.080621  14.749943  12.914153  18.312530  16.505467   \n",
       "\n",
       "        3839  type  \n",
       "0   8.106285     0  \n",
       "1  12.187710     0  \n",
       "2   4.844978     0  \n",
       "3  26.478874     0  \n",
       "4  16.544664     0  \n",
       "\n",
       "[5 rows x 3841 columns]"
      ]
     },
     "execution_count": 476,
     "metadata": {},
     "output_type": "execute_result"
    }
   ],
   "source": [
    "#---------------------------\n",
    "# 正常データ確認\n",
    "#---------------------------\n",
    "df_normal.head()"
   ]
  },
  {
   "cell_type": "code",
   "execution_count": 477,
   "metadata": {},
   "outputs": [
    {
     "data": {
      "text/html": [
       "<div>\n",
       "<style>\n",
       "    .dataframe thead tr:only-child th {\n",
       "        text-align: right;\n",
       "    }\n",
       "\n",
       "    .dataframe thead th {\n",
       "        text-align: left;\n",
       "    }\n",
       "\n",
       "    .dataframe tbody tr th {\n",
       "        vertical-align: top;\n",
       "    }\n",
       "</style>\n",
       "<table border=\"1\" class=\"dataframe\">\n",
       "  <thead>\n",
       "    <tr style=\"text-align: right;\">\n",
       "      <th></th>\n",
       "      <th>0</th>\n",
       "      <th>1</th>\n",
       "      <th>2</th>\n",
       "      <th>3</th>\n",
       "      <th>4</th>\n",
       "      <th>5</th>\n",
       "      <th>6</th>\n",
       "      <th>7</th>\n",
       "      <th>8</th>\n",
       "      <th>9</th>\n",
       "      <th>...</th>\n",
       "      <th>3831</th>\n",
       "      <th>3832</th>\n",
       "      <th>3833</th>\n",
       "      <th>3834</th>\n",
       "      <th>3835</th>\n",
       "      <th>3836</th>\n",
       "      <th>3837</th>\n",
       "      <th>3838</th>\n",
       "      <th>3839</th>\n",
       "      <th>type</th>\n",
       "    </tr>\n",
       "  </thead>\n",
       "  <tbody>\n",
       "    <tr>\n",
       "      <th>0</th>\n",
       "      <td>56.657474</td>\n",
       "      <td>157.110023</td>\n",
       "      <td>228.916360</td>\n",
       "      <td>132.464824</td>\n",
       "      <td>177.668851</td>\n",
       "      <td>472.707979</td>\n",
       "      <td>365.941204</td>\n",
       "      <td>65.937035</td>\n",
       "      <td>64.043387</td>\n",
       "      <td>71.210100</td>\n",
       "      <td>...</td>\n",
       "      <td>5.386851</td>\n",
       "      <td>6.811144</td>\n",
       "      <td>4.624559</td>\n",
       "      <td>5.732175</td>\n",
       "      <td>7.466543</td>\n",
       "      <td>5.672996</td>\n",
       "      <td>4.767125</td>\n",
       "      <td>4.785077</td>\n",
       "      <td>5.268615</td>\n",
       "      <td>1</td>\n",
       "    </tr>\n",
       "    <tr>\n",
       "      <th>1</th>\n",
       "      <td>39.930654</td>\n",
       "      <td>16.224782</td>\n",
       "      <td>114.597288</td>\n",
       "      <td>94.140780</td>\n",
       "      <td>66.755295</td>\n",
       "      <td>436.941892</td>\n",
       "      <td>218.494896</td>\n",
       "      <td>206.361612</td>\n",
       "      <td>235.350869</td>\n",
       "      <td>119.174055</td>\n",
       "      <td>...</td>\n",
       "      <td>8.776291</td>\n",
       "      <td>6.958667</td>\n",
       "      <td>3.964240</td>\n",
       "      <td>4.967306</td>\n",
       "      <td>4.185754</td>\n",
       "      <td>1.284395</td>\n",
       "      <td>6.203181</td>\n",
       "      <td>2.844025</td>\n",
       "      <td>7.213247</td>\n",
       "      <td>1</td>\n",
       "    </tr>\n",
       "    <tr>\n",
       "      <th>2</th>\n",
       "      <td>194.634435</td>\n",
       "      <td>145.820450</td>\n",
       "      <td>171.144312</td>\n",
       "      <td>113.858406</td>\n",
       "      <td>59.147727</td>\n",
       "      <td>726.378877</td>\n",
       "      <td>185.878143</td>\n",
       "      <td>202.829097</td>\n",
       "      <td>59.034541</td>\n",
       "      <td>84.360728</td>\n",
       "      <td>...</td>\n",
       "      <td>1.511485</td>\n",
       "      <td>2.669502</td>\n",
       "      <td>4.388029</td>\n",
       "      <td>4.137284</td>\n",
       "      <td>6.878590</td>\n",
       "      <td>4.083936</td>\n",
       "      <td>4.891338</td>\n",
       "      <td>3.656237</td>\n",
       "      <td>5.044423</td>\n",
       "      <td>1</td>\n",
       "    </tr>\n",
       "    <tr>\n",
       "      <th>3</th>\n",
       "      <td>142.564461</td>\n",
       "      <td>74.233327</td>\n",
       "      <td>131.217484</td>\n",
       "      <td>110.528342</td>\n",
       "      <td>138.601619</td>\n",
       "      <td>369.052596</td>\n",
       "      <td>45.470952</td>\n",
       "      <td>54.864565</td>\n",
       "      <td>164.745788</td>\n",
       "      <td>94.066929</td>\n",
       "      <td>...</td>\n",
       "      <td>3.804804</td>\n",
       "      <td>4.369375</td>\n",
       "      <td>5.226000</td>\n",
       "      <td>0.643531</td>\n",
       "      <td>2.832485</td>\n",
       "      <td>2.109607</td>\n",
       "      <td>2.405725</td>\n",
       "      <td>2.971688</td>\n",
       "      <td>3.568722</td>\n",
       "      <td>1</td>\n",
       "    </tr>\n",
       "    <tr>\n",
       "      <th>4</th>\n",
       "      <td>79.603565</td>\n",
       "      <td>183.228167</td>\n",
       "      <td>204.471103</td>\n",
       "      <td>34.917790</td>\n",
       "      <td>36.619025</td>\n",
       "      <td>524.572306</td>\n",
       "      <td>227.855618</td>\n",
       "      <td>97.593179</td>\n",
       "      <td>167.211335</td>\n",
       "      <td>83.693811</td>\n",
       "      <td>...</td>\n",
       "      <td>5.808757</td>\n",
       "      <td>1.393892</td>\n",
       "      <td>0.871705</td>\n",
       "      <td>2.948169</td>\n",
       "      <td>3.547919</td>\n",
       "      <td>3.139055</td>\n",
       "      <td>3.677156</td>\n",
       "      <td>9.348600</td>\n",
       "      <td>3.314404</td>\n",
       "      <td>1</td>\n",
       "    </tr>\n",
       "  </tbody>\n",
       "</table>\n",
       "<p>5 rows × 3841 columns</p>\n",
       "</div>"
      ],
      "text/plain": [
       "            0           1           2           3           4           5  \\\n",
       "0   56.657474  157.110023  228.916360  132.464824  177.668851  472.707979   \n",
       "1   39.930654   16.224782  114.597288   94.140780   66.755295  436.941892   \n",
       "2  194.634435  145.820450  171.144312  113.858406   59.147727  726.378877   \n",
       "3  142.564461   74.233327  131.217484  110.528342  138.601619  369.052596   \n",
       "4   79.603565  183.228167  204.471103   34.917790   36.619025  524.572306   \n",
       "\n",
       "            6           7           8           9  ...       3831      3832  \\\n",
       "0  365.941204   65.937035   64.043387   71.210100  ...   5.386851  6.811144   \n",
       "1  218.494896  206.361612  235.350869  119.174055  ...   8.776291  6.958667   \n",
       "2  185.878143  202.829097   59.034541   84.360728  ...   1.511485  2.669502   \n",
       "3   45.470952   54.864565  164.745788   94.066929  ...   3.804804  4.369375   \n",
       "4  227.855618   97.593179  167.211335   83.693811  ...   5.808757  1.393892   \n",
       "\n",
       "       3833      3834      3835      3836      3837      3838      3839  type  \n",
       "0  4.624559  5.732175  7.466543  5.672996  4.767125  4.785077  5.268615     1  \n",
       "1  3.964240  4.967306  4.185754  1.284395  6.203181  2.844025  7.213247     1  \n",
       "2  4.388029  4.137284  6.878590  4.083936  4.891338  3.656237  5.044423     1  \n",
       "3  5.226000  0.643531  2.832485  2.109607  2.405725  2.971688  3.568722     1  \n",
       "4  0.871705  2.948169  3.547919  3.139055  3.677156  9.348600  3.314404     1  \n",
       "\n",
       "[5 rows x 3841 columns]"
      ]
     },
     "execution_count": 477,
     "metadata": {},
     "output_type": "execute_result"
    }
   ],
   "source": [
    "#-----------------------------\n",
    "# ベアリング異常データ確認\n",
    "#-----------------------------\n",
    "df_bearing.head()"
   ]
  },
  {
   "cell_type": "code",
   "execution_count": 478,
   "metadata": {},
   "outputs": [
    {
     "name": "stdout",
     "output_type": "stream",
     "text": [
      "(100, 3841)\n",
      "(100, 3841)\n"
     ]
    }
   ],
   "source": [
    "#------------------------------\n",
    "# データ件数確認\n",
    "#------------------------------\n",
    "print(df_normal.shape)\n",
    "print(df_bearing.shape)"
   ]
  },
  {
   "cell_type": "code",
   "execution_count": 499,
   "metadata": {},
   "outputs": [
    {
     "name": "stdout",
     "output_type": "stream",
     "text": [
      "データ数 : (200, 3841)\n",
      "PCA後の累積寄与率 : 0.637\n"
     ]
    }
   ],
   "source": [
    "#------------------------------\n",
    "# データ整形\n",
    "#------------------------------\n",
    "\n",
    "#正常、異常データを縦結合\n",
    "#★★★\n",
    "df_for_analysis = #★★★df_normal, df_bearingを縦結合\n",
    "print('データ数 : {}'.format(df_for_analysis.shape))\n",
    "\n",
    "#★★★　以下コードを完成させてください\n",
    "#説明変数、目的変数分離\n",
    "\n",
    "X = #★★★\n",
    "y = #★★★\n",
    "#random_state=123, test_size = 0.25でデータを分割\n",
    "X_train, X_test, y_train, y_test = #★★★\n",
    "\n",
    "#標準化\n",
    "#★★★\n",
    "\n",
    "#X_train, X_testを平均0, 標準偏差1に標準化\n",
    "#★★★\n",
    "\n",
    "#PCAによる次元削減\n",
    "pca = PCA(n_components = 20, whiten = True)\n",
    "X_train_pca =　#★★★\n",
    "X_test_pca  = 　#★★★\n",
    "\n",
    "#累積寄与率確認\n",
    "print('PCA後の累積寄与率 : {:.3f}'.format()　#★★★\n"
   ]
  },
  {
   "cell_type": "code",
   "execution_count": 503,
   "metadata": {},
   "outputs": [
    {
     "name": "stdout",
     "output_type": "stream",
     "text": [
      "-----------------------------------------------\n",
      "gamma : 0.01 C : 0.01\n",
      " train_accuracy = 0.527 test_accuracy = 0.420\n",
      "-----------------------------------------------\n",
      "gamma : 0.01 C : 0.1\n",
      " train_accuracy = 0.527 test_accuracy = 0.420\n",
      "-----------------------------------------------\n",
      "gamma : 0.01 C : 1.0\n",
      " train_accuracy = 1.000 test_accuracy = 0.420\n",
      "-----------------------------------------------\n",
      "gamma : 0.01 C : 10\n",
      " train_accuracy = 1.000 test_accuracy = 0.420\n",
      "-----------------------------------------------\n",
      "gamma : 0.01 C : 100\n",
      " train_accuracy = 1.000 test_accuracy = 0.420\n",
      "-----------------------------------------------\n",
      "gamma : 0.1 C : 0.01\n",
      " train_accuracy = 0.527 test_accuracy = 0.420\n",
      "-----------------------------------------------\n",
      "gamma : 0.1 C : 0.1\n",
      " train_accuracy = 0.527 test_accuracy = 0.420\n",
      "-----------------------------------------------\n",
      "gamma : 0.1 C : 1.0\n",
      " train_accuracy = 1.000 test_accuracy = 0.420\n",
      "-----------------------------------------------\n",
      "gamma : 0.1 C : 10\n",
      " train_accuracy = 1.000 test_accuracy = 0.420\n",
      "-----------------------------------------------\n",
      "gamma : 0.1 C : 100\n",
      " train_accuracy = 1.000 test_accuracy = 0.420\n",
      "-----------------------------------------------\n",
      "gamma : 1.0 C : 0.01\n",
      " train_accuracy = 0.527 test_accuracy = 0.420\n",
      "-----------------------------------------------\n",
      "gamma : 1.0 C : 0.1\n",
      " train_accuracy = 0.527 test_accuracy = 0.420\n",
      "-----------------------------------------------\n",
      "gamma : 1.0 C : 1.0\n",
      " train_accuracy = 1.000 test_accuracy = 0.420\n",
      "-----------------------------------------------\n",
      "gamma : 1.0 C : 10\n",
      " train_accuracy = 1.000 test_accuracy = 0.420\n",
      "-----------------------------------------------\n",
      "gamma : 1.0 C : 100\n",
      " train_accuracy = 1.000 test_accuracy = 0.420\n",
      "-----------------------------------------------\n",
      "gamma : 10 C : 0.01\n",
      " train_accuracy = 0.527 test_accuracy = 0.420\n",
      "-----------------------------------------------\n",
      "gamma : 10 C : 0.1\n",
      " train_accuracy = 0.527 test_accuracy = 0.420\n",
      "-----------------------------------------------\n",
      "gamma : 10 C : 1.0\n",
      " train_accuracy = 1.000 test_accuracy = 0.420\n",
      "-----------------------------------------------\n",
      "gamma : 10 C : 10\n",
      " train_accuracy = 1.000 test_accuracy = 0.420\n",
      "-----------------------------------------------\n",
      "gamma : 10 C : 100\n",
      " train_accuracy = 1.000 test_accuracy = 0.420\n",
      "-----------------------------------------------\n",
      "gamma : 100 C : 0.01\n",
      " train_accuracy = 0.527 test_accuracy = 0.420\n",
      "-----------------------------------------------\n",
      "gamma : 100 C : 0.1\n",
      " train_accuracy = 0.527 test_accuracy = 0.420\n",
      "-----------------------------------------------\n",
      "gamma : 100 C : 1.0\n",
      " train_accuracy = 1.000 test_accuracy = 0.420\n",
      "-----------------------------------------------\n",
      "gamma : 100 C : 10\n",
      " train_accuracy = 1.000 test_accuracy = 0.420\n",
      "-----------------------------------------------\n",
      "gamma : 100 C : 100\n",
      " train_accuracy = 1.000 test_accuracy = 0.420\n"
     ]
    }
   ],
   "source": [
    "#----------------------------------------------\n",
    "# SVMで教師ありによる異常判定(次元削減なしver)\n",
    "#----------------------------------------------\n",
    "\n",
    "#★★★下記コードを完成させてください\n",
    "gamma_list = [0.01, 0.1, 1.0, 10, 100]\n",
    "C_list = [0.01, 0.1, 1.0, 10, 100]\n",
    "best_accuracy = 0\n",
    "for gamma in gamma_list:\n",
    "    for C in C_list:\n",
    "        svm = 　#★★★\n",
    "        svm.fit()　#★★★\n",
    "        train_accuracy =　#★★★\n",
    "        test_accuracy  =　#★★★\n",
    "        print('-----------------------------------------------')\n",
    "        print('gamma : {} C : {}\\n train_accuracy = {:.3f} test_accuracy = {:.3f}'.format(gamma, C, train_accuracy, test_accuracy))\n",
    "        if test_accuracy > :　#★★★\n",
    "            best_params = {'gamma':gamma, 'C':C}\n",
    "            best_accuracy =　#★★★\n",
    "            best_model = svm"
   ]
  },
  {
   "cell_type": "code",
   "execution_count": 510,
   "metadata": {},
   "outputs": [
    {
     "name": "stdout",
     "output_type": "stream",
     "text": [
      "-----------------------------------------------\n",
      "gamma : 0.01 C : 0.01\n",
      " train_accuracy = 0.5266666666666666 test_accuracy = 0.42\n",
      "-----------------------------------------------\n",
      "gamma : 0.01 C : 0.1\n",
      " train_accuracy = 0.7266666666666667 test_accuracy = 0.42\n",
      "-----------------------------------------------\n",
      "gamma : 0.01 C : 1.0\n",
      " train_accuracy = 1.0 test_accuracy = 1.0\n",
      "-----------------------------------------------\n",
      "gamma : 0.01 C : 10\n",
      " train_accuracy = 1.0 test_accuracy = 1.0\n",
      "-----------------------------------------------\n",
      "gamma : 0.01 C : 100\n",
      " train_accuracy = 1.0 test_accuracy = 1.0\n",
      "-----------------------------------------------\n",
      "gamma : 0.1 C : 0.01\n",
      " train_accuracy = 0.5266666666666666 test_accuracy = 0.42\n",
      "-----------------------------------------------\n",
      "gamma : 0.1 C : 0.1\n",
      " train_accuracy = 0.9933333333333333 test_accuracy = 1.0\n",
      "-----------------------------------------------\n",
      "gamma : 0.1 C : 1.0\n",
      " train_accuracy = 1.0 test_accuracy = 1.0\n",
      "-----------------------------------------------\n",
      "gamma : 0.1 C : 10\n",
      " train_accuracy = 1.0 test_accuracy = 1.0\n",
      "-----------------------------------------------\n",
      "gamma : 0.1 C : 100\n",
      " train_accuracy = 1.0 test_accuracy = 1.0\n",
      "-----------------------------------------------\n",
      "gamma : 1.0 C : 0.01\n",
      " train_accuracy = 0.5266666666666666 test_accuracy = 0.42\n",
      "-----------------------------------------------\n",
      "gamma : 1.0 C : 0.1\n",
      " train_accuracy = 0.9466666666666667 test_accuracy = 1.0\n",
      "-----------------------------------------------\n",
      "gamma : 1.0 C : 1.0\n",
      " train_accuracy = 1.0 test_accuracy = 1.0\n",
      "-----------------------------------------------\n",
      "gamma : 1.0 C : 10\n",
      " train_accuracy = 1.0 test_accuracy = 1.0\n",
      "-----------------------------------------------\n",
      "gamma : 1.0 C : 100\n",
      " train_accuracy = 1.0 test_accuracy = 1.0\n",
      "-----------------------------------------------\n",
      "gamma : 10 C : 0.01\n",
      " train_accuracy = 0.5266666666666666 test_accuracy = 0.42\n",
      "-----------------------------------------------\n",
      "gamma : 10 C : 0.1\n",
      " train_accuracy = 0.5266666666666666 test_accuracy = 0.42\n",
      "-----------------------------------------------\n",
      "gamma : 10 C : 1.0\n",
      " train_accuracy = 1.0 test_accuracy = 0.42\n",
      "-----------------------------------------------\n",
      "gamma : 10 C : 10\n",
      " train_accuracy = 1.0 test_accuracy = 0.42\n",
      "-----------------------------------------------\n",
      "gamma : 10 C : 100\n",
      " train_accuracy = 1.0 test_accuracy = 0.42\n",
      "-----------------------------------------------\n",
      "gamma : 100 C : 0.01\n",
      " train_accuracy = 0.5266666666666666 test_accuracy = 0.42\n",
      "-----------------------------------------------\n",
      "gamma : 100 C : 0.1\n",
      " train_accuracy = 0.5266666666666666 test_accuracy = 0.42\n",
      "-----------------------------------------------\n",
      "gamma : 100 C : 1.0\n",
      " train_accuracy = 1.0 test_accuracy = 0.42\n",
      "-----------------------------------------------\n",
      "gamma : 100 C : 10\n",
      " train_accuracy = 1.0 test_accuracy = 0.42\n",
      "-----------------------------------------------\n",
      "gamma : 100 C : 100\n",
      " train_accuracy = 1.0 test_accuracy = 0.42\n"
     ]
    }
   ],
   "source": [
    "#----------------------------------------------\n",
    "# SVMで教師ありによる異常判定(次元削減ありver)\n",
    "#----------------------------------------------\n",
    "gamma_list = [0.01, 0.1, 1.0, 10, 100]\n",
    "C_list = [0.01, 0.1, 1.0, 10, 100]\n",
    "best_accuracy = 0\n",
    "for gamma in gamma_list:\n",
    "    for C in C_list:\n",
    "        svm = 　#★★★\n",
    "        svm.fit()　#★★★\n",
    "        train_accuracy = 　#★★★\n",
    "        test_accuracy  = 　#★★★\n",
    "        print('-----------------------------------------------')\n",
    "        print('gamma : {} C : {}\\n train_accuracy = {:.3f} test_accuracy = {:.3f}'.format(gamma, C, train_accuracy, test_accuracy))\n",
    "        if test_accuracy > :　#★★★\n",
    "            best_params = {'gamma':gamma, 'C':C}\n",
    "            best_accuracy = 　#★★★\n",
    "            best_model = svm"
   ]
  },
  {
   "cell_type": "markdown",
   "metadata": {},
   "source": [
    "モデル性能評価"
   ]
  },
  {
   "cell_type": "code",
   "execution_count": 511,
   "metadata": {},
   "outputs": [
    {
     "name": "stdout",
     "output_type": "stream",
     "text": [
      "training confusion matrix : \n",
      " [[79  0]\n",
      " [ 0 71]]\n",
      "test confusion matrix : \n",
      " [[21  0]\n",
      " [ 0 29]]\n"
     ]
    }
   ],
   "source": [
    "#-----------------------------\n",
    "# 混同行列確認\n",
    "#-----------------------------\n",
    "\n",
    "#予測クラス取得\n",
    "y_pred_train = #★★★\n",
    "y_pred_test  =　#★★★\n",
    "\n",
    "#混同行列描画\n",
    "conf_mat_train =　#★★★\n",
    "conf_mat_test  =　#★★★\n",
    "print('training confusion matrix : \\n', conf_mat_train)\n",
    "print('test confusion matrix : \\n', conf_mat_test)"
   ]
  },
  {
   "cell_type": "code",
   "execution_count": 512,
   "metadata": {
    "collapsed": true
   },
   "outputs": [],
   "source": [
    "#----------------------------------------------\n",
    "# ROC曲線描画関数定義\n",
    "#----------------------------------------------\n",
    "\n",
    "def draw_roc_curve(model, X_train, y_train, X_test, y_test):\n",
    "        \n",
    "    #ROC曲線描画\n",
    "    fpr_train, tpr_train, threshold_train = roc_curve(y_train, model.predict_proba(X_train)[:, 1])\n",
    "    auc_train = roc_auc_score(y_train, model.predict_proba(X_train)[:, 1])\n",
    "    plt.plot(fpr_train, tpr_train, label = \"Train AUC = {:.3f}\".format(auc_train))\n",
    "\n",
    "    fpr_test, tpr_test, threshold_test = roc_curve(y_test, model.predict_proba(X_test)[:, 1])\n",
    "    auc_test = roc_auc_score(y_test, model.predict_proba(X_test)[:, 1])\n",
    "    plt.plot(fpr_test, tpr_test, label = \"Test  AUC = {:.3f}\".format(auc_test))\n",
    "\n",
    "    plt.xlabel('FPR')\n",
    "    plt.ylabel('TPR')\n",
    "    plt.legend(loc = 'lower right')\n",
    "    plt.title('ROC Curve')\n",
    "    plt.ylim(0, 1.05)\n",
    "    plt.show()\n",
    "\n"
   ]
  },
  {
   "cell_type": "code",
   "execution_count": 513,
   "metadata": {},
   "outputs": [
    {
     "data": {
      "image/png": "[encoded data removed]",
      "text/plain": [
       "<matplotlib.figure.Figure at 0x21ecca5b5f8>"
      ]
     },
     "metadata": {},
     "output_type": "display_data"
    }
   ],
   "source": [
    "draw_roc_curve(best_model, X_train_pca, y_train, X_test_pca, y_test)"
   ]
  },
  {
   "cell_type": "markdown",
   "metadata": {},
   "source": [
    "LOFによる教師なしでの異常検知モデル作成\n"
   ]
  },
  {
   "cell_type": "code",
   "execution_count": 493,
   "metadata": {},
   "outputs": [
    {
     "name": "stdout",
     "output_type": "stream",
     "text": [
      "0.449834344406\n"
     ]
    }
   ],
   "source": [
    "#------------------\n",
    "#データ整形\n",
    "#------------------\n",
    "\n",
    "#★★★下記のコードを完成させてください\n",
    "#教師なし学習のため、正解ラベル(type列)除外\n",
    "X_normal = df_normal.\n",
    "X_bearing = df_bearing.\n",
    "\n",
    "#標準化\n",
    "scaler = #★★★\n",
    "X_normal_scl = 　#★★★\n",
    "X_bearing_scl = 　#★★★\n",
    "\n",
    "#PCAによる次元圧縮\n",
    "pca_lof = PCA(n_components = 20, whiten = True)\n",
    "X_normal_pca = 　#★★★\n",
    "X_bearing_pca = 　#★★★\n",
    "\n",
    "\n",
    "#累積寄与率確認\n",
    "print('PCA後の累積寄与率 : {:.3f}'.format()　#★★★"
   ]
  },
  {
   "cell_type": "code",
   "execution_count": 490,
   "metadata": {
    "collapsed": true
   },
   "outputs": [],
   "source": [
    "#----------------------------\n",
    "# 学習、異常スコア計算関数定義\n",
    "#----------------------------\n",
    "\n",
    "#モデル訓練用関数\n",
    "def train_lof(X, n_neighbors):\n",
    "    lof = LocalOutlierFactor(n_neighbors = n_neighbors)\n",
    "    return  #★★★訓練結果を返す\n",
    "\n",
    "#異常スコア計算関数\n",
    "def calc_anomaly_score(X, model):\n",
    "    anomaly_score = - model._decision_function(X)\n",
    "    return anomaly_score"
   ]
  },
  {
   "cell_type": "code",
   "execution_count": 491,
   "metadata": {
    "collapsed": true
   },
   "outputs": [],
   "source": [
    "#------------------------------------------\n",
    "# 正常データによる学習と異常スコア算出\n",
    "#------------------------------------------\n",
    "\n",
    "#正常データを使用してモデル学習\n",
    "lof = #★★★上で定義した関数を使用してください\n",
    "\n",
    "#異常スコア算出\n",
    "normal_score  = #★★★上で定義した関数を使用してください\n",
    "bearing_score = #★★★上で定義した関数を使用してください"
   ]
  },
  {
   "cell_type": "code",
   "execution_count": 492,
   "metadata": {},
   "outputs": [
    {
     "data": {
      "image/png": "[encoded data removed]",
      "text/plain": [
       "<matplotlib.figure.Figure at 0x21eccb0ceb8>"
      ]
     },
     "metadata": {},
     "output_type": "display_data"
    }
   ],
   "source": [
    "#------------------\n",
    "# 結果可視化\n",
    "#------------------\n",
    "n_data = len(normal_score) + len(bearing_score)\n",
    "score = 　#★★★normal_scoreとbearing_scoreを横連結\n",
    "plt.figure(figsize = (8, 6))\n",
    "plt.scatter(range(n_data), score, color = 'b', s = 15)\n",
    "plt.vlines(x = 100, ymin = 0, ymax = score.max() * 1.1, linestyle = '--', color = 'r')\n",
    "plt.title('anomaly score plot')\n",
    "plt.ylabel('anomaly score')\n",
    "plt.xlabel('data index')\n",
    "plt.show()"
   ]
  },
  {
   "cell_type": "code",
   "execution_count": null,
   "metadata": {
    "collapsed": true
   },
   "outputs": [],
   "source": []
  }
 ],
 "metadata": {
  "kernelspec": {
   "display_name": "Python 3",
   "language": "python",
   "name": "python3"
  },
  "language_info": {
   "codemirror_mode": {
    "name": "ipython",
    "version": 3
   },
   "file_extension": ".py",
   "mimetype": "text/x-python",
   "name": "python",
   "nbconvert_exporter": "python",
   "pygments_lexer": "ipython3",
   "version": "3.6.2"
  }
 },
 "nbformat": 4,
 "nbformat_minor": 2
}
